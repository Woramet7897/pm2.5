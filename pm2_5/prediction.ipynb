{
 "cells": [
  {
   "cell_type": "code",
   "execution_count": 21,
   "metadata": {},
   "outputs": [],
   "source": [
    "# PM2.5 7-Day Prediction Script\n",
    "# ส่วนที่ 1: การนำเข้าไลบรารี\n",
    "import pandas as pd\n",
    "import numpy as np\n",
    "import matplotlib.pyplot as plt\n",
    "import seaborn as sns\n",
    "from datetime import datetime, timedelta\n",
    "import joblib\n",
    "from sklearn.preprocessing import StandardScaler\n",
    "import warnings\n",
    "warnings.filterwarnings('ignore')\n"
   ]
  },
  {
   "cell_type": "code",
   "execution_count": null,
   "metadata": {},
   "outputs": [
    {
     "name": "stdout",
     "output_type": "stream",
     "text": [
      "กำลังโหลดข้อมูลที่ทำความสะอาดแล้ว...\n",
      "โหลดข้อมูลสำเร็จ: 489 แถว\n"
     ]
    }
   ],
   "source": [
    "# ส่วนที่ 2: โหลดข้อมูลที่ทำความสะอาดแล้ว\n",
    "print(\"กำลังโหลดข้อมูลที่ทำความสะอาดแล้ว...\")\n",
    "try:\n",
    "    # ปรับเปลี่ยนชื่อไฟล์ตามที่คุณบันทึกไว้\n",
    "    cleaned_file_path = r'C:\\python\\pm2_5\\data\\export-4B7B6566022D-1d_clean_no_overfit.xlsx'\n",
    "    df = pd.read_excel(cleaned_file_path)\n",
    "    \n",
    "    # แปลง timestamp เป็น datetime\n",
    "    df['timestamp'] = pd.to_datetime(df['timestamp'])\n",
    "    print(f\"โหลดข้อมูลสำเร็จ: {len(df)} แถว\")\n",
    "except Exception as e:\n",
    "    print(f\"เกิดข้อผิดพลาดในการโหลดข้อมูล: {e}\")\n",
    "    exit()\n"
   ]
  },
  {
   "cell_type": "code",
   "execution_count": 23,
   "metadata": {},
   "outputs": [
    {
     "name": "stdout",
     "output_type": "stream",
     "text": [
      "กำลังโหลดโมเดล...\n",
      "โหลดโมเดลสำเร็จ\n"
     ]
    }
   ],
   "source": [
    "# ส่วนที่ 3: โหลดโมเดลที่เทรนไว้แล้ว\n",
    "print(\"กำลังโหลดโมเดล...\")\n",
    "try:\n",
    "    # ปรับเปลี่ยนชื่อโมเดลตามที่คุณบันทึกไว้\n",
    "    pm25_model = joblib.load('pm25_prediction_model_optimized.pkl')\n",
    "    temp_model = joblib.load('temperature_prediction_model_optimized.pkl')\n",
    "    print(\"โหลดโมเดลสำเร็จ\")\n",
    "except Exception as e:\n",
    "    print(f\"เกิดข้อผิดพลาดในการโหลดโมเดล: {e}\")\n",
    "    exit()"
   ]
  },
  {
   "cell_type": "code",
   "execution_count": 24,
   "metadata": {},
   "outputs": [],
   "source": [
    "# ส่วนที่ 4: สร้างฟังก์ชันสำหรับการเตรียมข้อมูล\n",
    "def prepare_time_series_features(dataframe):\n",
    "    \"\"\"เตรียมข้อมูลสำหรับการทำนาย โดยลด overfitting\"\"\"\n",
    "    df_copy = dataframe.copy()\n",
    "\n",
    "    # แปลง timestamp เป็น datetime\n",
    "    df_copy['timestamp'] = pd.to_datetime(df_copy['timestamp'])\n",
    "\n",
    "    # เรียงข้อมูลตามเวลา\n",
    "    df_copy = df_copy.sort_values('timestamp')\n",
    "\n",
    "    # ใช้ Lag Features แค่ 3 วันแทน 7 วัน\n",
    "    for i in range(1, 4):\n",
    "        df_copy[f'pm_2_5_lag_{i}'] = df_copy['pm_2_5'].shift(i)\n",
    "        df_copy[f'temperature_lag_{i}'] = df_copy['temperature'].shift(i)\n",
    "        df_copy[f'humidity_lag_{i}'] = df_copy['humidity'].shift(i)\n",
    "\n",
    "    # ใช้ Exponential Moving Average (EMA) แทน Rolling Mean\n",
    "    df_copy['pm_2_5_ema_3'] = df_copy['pm_2_5'].ewm(span=3, adjust=False).mean()\n",
    "    df_copy['pm_2_5_ema_7'] = df_copy['pm_2_5'].ewm(span=7, adjust=False).mean()\n",
    "\n",
    "    # คุณลักษณะเกี่ยวกับเวลา\n",
    "    df_copy['day_of_week'] = df_copy['timestamp'].dt.dayofweek\n",
    "    df_copy['hour'] = df_copy['timestamp'].dt.hour\n",
    "    df_copy['month'] = df_copy['timestamp'].dt.month\n",
    "\n",
    "    # ใช้ Cyclical Encoding สำหรับวันในสัปดาห์\n",
    "    df_copy['day_sin'] = np.sin(df_copy['day_of_week'] * (2 * np.pi / 7))\n",
    "    df_copy['day_cos'] = np.cos(df_copy['day_of_week'] * (2 * np.pi / 7))\n",
    "\n",
    "    # สร้างฟีเจอร์ใหม่ที่เกี่ยวข้องกับ temperature และ humidity\n",
    "    df_copy['temp_humidity_ratio'] = df_copy['temperature'] / df_copy['humidity']\n",
    "    df_copy['temp_humidity_diff'] = df_copy['temperature'] - df_copy['humidity']\n",
    "\n",
    "    return df_copy"
   ]
  },
  {
   "cell_type": "code",
   "execution_count": 25,
   "metadata": {},
   "outputs": [],
   "source": [
    "# ส่วนที่ 5: ทำนาย 7 วัน (แก้ปัญหา KeyError)\n",
    "def predict_next_7_days(df, pm25_model, temp_model):\n",
    "    \"\"\"ทำนายค่า PM2.5 และอุณหภูมิ ล่วงหน้า 7 วัน พร้อมแก้ปัญหาคอลัมน์หาย\"\"\"\n",
    "\n",
    "    # เตรียมข้อมูล\n",
    "    forecast_df = prepare_time_series_features(df)\n",
    "    latest_date = forecast_df['timestamp'].max()\n",
    "    last_rows = forecast_df[forecast_df['timestamp'] == latest_date].copy()\n",
    "\n",
    "    if len(last_rows) == 0:\n",
    "        last_rows = forecast_df.iloc[-1:].copy()\n",
    "        latest_date = last_rows['timestamp'].iloc[0]\n",
    "\n",
    "    # คอลัมน์ที่ใช้ทำนาย\n",
    "    important_features = [\n",
    "        'temperature', 'humidity', 'pm_2_5_lag_1', 'pm_2_5_lag_2', \n",
    "        'pm_2_5_lag_3', 'pm_2_5_ema_3', 'pm_2_5_ema_7',\n",
    "        'day_sin', 'day_cos', 'hour', 'month',\n",
    "        'temp_humidity_ratio', 'temp_humidity_diff'\n",
    "    ]\n",
    "\n",
    "    # ตรวจสอบว่าคอลัมน์มีครบไหม ถ้าไม่มีให้เติมค่า default\n",
    "    for col in important_features:\n",
    "        if col not in last_rows.columns:\n",
    "            last_rows[col] = 0  # ค่า default (หรือใช้ median ก็ได้)\n",
    "\n",
    "    # เตรียม DataFrame เก็บผลการทำนาย\n",
    "    forecast_results = []\n",
    "    current_input = last_rows.copy()\n",
    "\n",
    "    # ทำนายทีละวัน\n",
    "    for i in range(1, 8):\n",
    "        prediction_date = latest_date + timedelta(days=i)\n",
    "        current_input['timestamp'] = prediction_date\n",
    "        current_input['day_of_week'] = prediction_date.dayofweek\n",
    "        current_input['month'] = prediction_date.month\n",
    "        current_input['hour'] = 12  # สมมติเป็นช่วงกลางวัน\n",
    "\n",
    "        # ปรับ cyclical features\n",
    "        current_input['day_sin'] = np.sin(current_input['day_of_week'] * (2 * np.pi / 7))\n",
    "        current_input['day_cos'] = np.cos(current_input['day_of_week'] * (2 * np.pi / 7))\n",
    "\n",
    "        # ใช้เฉพาะ features ที่จำเป็น\n",
    "        prediction_features = current_input[important_features].copy()\n",
    "\n",
    "        try:\n",
    "            pm25_prediction = pm25_model.predict(prediction_features)[0]\n",
    "            temp_prediction = temp_model.predict(prediction_features)[0]\n",
    "        except Exception as e:\n",
    "            print(f\"เกิดข้อผิดพลาดในการทำนาย: {e}\")\n",
    "            pm25_prediction = current_input['pm_2_5_ema_3'].values[0]  # ใช้ค่า EMA แทน\n",
    "            temp_prediction = current_input['temperature'].values[0]  # ใช้ค่าเดิมแทน\n",
    "\n",
    "        # บันทึกผลการทำนาย\n",
    "        forecast_results.append({\n",
    "            'date': prediction_date.strftime('%Y-%m-%d'),\n",
    "            'day_of_week': prediction_date.strftime('%A'),\n",
    "            'pm_2_5_predicted': pm25_prediction,\n",
    "            'temperature_predicted': temp_prediction\n",
    "        })\n",
    "\n",
    "        # อัปเดตค่า Lag และ EMA\n",
    "        current_input['pm_2_5_lag_1'] = pm25_prediction\n",
    "        current_input['pm_2_5_lag_2'] = current_input['pm_2_5_lag_1'].values[0]\n",
    "        current_input['pm_2_5_lag_3'] = current_input['pm_2_5_lag_2'].values[0]\n",
    "\n",
    "        # อัปเดต EMA\n",
    "        prev_values = [row['pm_2_5_predicted'] for row in forecast_results[-3:]]\n",
    "        current_input['pm_2_5_ema_3'] = np.mean(prev_values) if len(prev_values) == 3 else np.mean(prev_values)\n",
    "\n",
    "        prev_values = [row['pm_2_5_predicted'] for row in forecast_results[-7:]]\n",
    "        current_input['pm_2_5_ema_7'] = np.mean(prev_values) if len(prev_values) == 7 else np.mean(prev_values)\n",
    "\n",
    "    return pd.DataFrame(forecast_results)"
   ]
  },
  {
   "cell_type": "code",
   "execution_count": 26,
   "metadata": {},
   "outputs": [],
   "source": [
    "# ส่วนที่ 6: การวิเคราะห์คุณภาพอากาศตามมาตรฐาน\n",
    "def analyze_air_quality(pm25_value):\n",
    "    \"\"\"แปลงค่า PM2.5 เป็นระดับคุณภาพอากาศ\"\"\"\n",
    "    if pm25_value <= 12:\n",
    "        return \"ดี (Good)\"\n",
    "    elif pm25_value <= 35.4:\n",
    "        return \"ปานกลาง (Moderate)\"\n",
    "    elif pm25_value <= 55.4:\n",
    "        return \"ไม่ดีต่อกลุ่มเสี่ยง (Unhealthy for Sensitive Groups)\"\n",
    "    elif pm25_value <= 150.4:\n",
    "        return \"ไม่ดีต่อสุขภาพ (Unhealthy)\"\n",
    "    elif pm25_value <= 250.4:\n",
    "        return \"ไม่ดีต่อสุขภาพอย่างมาก (Very Unhealthy)\"\n",
    "    else:\n",
    "        return \"อันตราย (Hazardous)\"\n"
   ]
  },
  {
   "cell_type": "code",
   "execution_count": null,
   "metadata": {},
   "outputs": [
    {
     "name": "stdout",
     "output_type": "stream",
     "text": [
      "\n",
      "กำลังทำนายค่า PM2.5 และอุณหภูมิ ล่วงหน้า 7 วัน...\n",
      "เกิดข้อผิดพลาดในการทำนาย: \"['pm_10', 'day_of_week'] not in index\"\n",
      "เกิดข้อผิดพลาดในการทำนาย: \"['pm_10', 'day_of_week'] not in index\"\n",
      "เกิดข้อผิดพลาดในการทำนาย: \"['pm_10', 'day_of_week'] not in index\"\n",
      "เกิดข้อผิดพลาดในการทำนาย: \"['pm_10', 'day_of_week'] not in index\"\n",
      "เกิดข้อผิดพลาดในการทำนาย: \"['pm_10', 'day_of_week'] not in index\"\n",
      "เกิดข้อผิดพลาดในการทำนาย: \"['pm_10', 'day_of_week'] not in index\"\n",
      "เกิดข้อผิดพลาดในการทำนาย: \"['pm_10', 'day_of_week'] not in index\"\n",
      "\n",
      "ผลการทำนายค่า PM2.5 และอุณหภูมิ ล่วงหน้า 7 วัน:\n",
      "         date day_of_week  pm_2_5_predicted  temperature_predicted air_quality\n",
      "0  2023-03-19      Sunday         10.428646              25.208512   ดี (Good)\n",
      "1  2023-03-20      Monday         10.428646              25.208512   ดี (Good)\n",
      "2  2023-03-21     Tuesday         10.428646              25.208512   ดี (Good)\n",
      "3  2023-03-22   Wednesday         10.428646              25.208512   ดี (Good)\n",
      "4  2023-03-23    Thursday         10.428646              25.208512   ดี (Good)\n",
      "5  2023-03-24      Friday         10.428646              25.208512   ดี (Good)\n",
      "6  2023-03-25    Saturday         10.428646              25.208512   ดี (Good)\n"
     ]
    }
   ],
   "source": [
    "# ส่วนที่ 7: การทำนายและแสดงผล\n",
    "# เตรียมข้อมูลเพิ่มเติม\n",
    "df_with_features = prepare_time_series_features(df)\n",
    "\n",
    "# ทำนายค่า PM2.5 และอุณหภูมิ ล่วงหน้า 7 วัน\n",
    "print(\"\\nกำลังทำนายค่า PM2.5 และอุณหภูมิ ล่วงหน้า 7 วัน...\")\n",
    "forecast_result = predict_next_7_days(df_with_features, pm25_model, temp_model)\n",
    "\n",
    "# เพิ่มการวิเคราะห์คุณภาพอากาศ\n",
    "forecast_result['air_quality'] = forecast_result['pm_2_5_predicted'].apply(analyze_air_quality)\n",
    "\n",
    "# แสดงผลการทำนาย\n",
    "print(\"\\nผลการทำนายค่า PM2.5 และอุณหภูมิ ล่วงหน้า 7 วัน:\")\n",
    "print(forecast_result[['date', 'day_of_week', 'pm_2_5_predicted', 'temperature_predicted', 'air_quality']])"
   ]
  },
  {
   "cell_type": "code",
   "execution_count": 27,
   "metadata": {},
   "outputs": [
    {
     "name": "stdout",
     "output_type": "stream",
     "text": [
      "บันทึกกราฟการทำนายไปยัง 'pm25_forecast_7days.png'\n"
     ]
    },
    {
     "data": {
      "image/png": "[encoded data removed]",
      "text/plain": [
       "<Figure size 1200x700 with 1 Axes>"
      ]
     },
     "metadata": {},
     "output_type": "display_data"
    }
   ],
   "source": [
    "\n",
    "# ส่วนที่ 8: สร้างกราฟแสดงผลการทำนาย\n",
    "plt.figure(figsize=(12, 7))\n",
    "\n",
    "# กราฟแท่งแสดงค่า PM2.5 รายวัน\n",
    "ax1 = sns.barplot(x='date', y='pm_2_5_predicted', data=forecast_result, \n",
    "                 hue='air_quality', palette='YlOrRd', legend=False)\n",
    "plt.xlabel('วันที่')\n",
    "plt.ylabel('PM2.5 (µg/m³)')\n",
    "plt.title('การทำนายค่าฝุ่น PM2.5 ล่วงหน้า 7 วัน')\n",
    "\n",
    "# ตั้งค่าแกน X\n",
    "plt.xticks(rotation=45)\n",
    "\n",
    "# เพิ่มค่า PM2.5 บนแท่งกราฟ\n",
    "for i, row in enumerate(forecast_result.itertuples()):\n",
    "    ax1.text(i, row.pm_2_5_predicted + 1, f'{row.pm_2_5_predicted:.1f}',\n",
    "             ha='center', va='bottom', fontweight='bold')\n",
    "\n",
    "# เพิ่มเส้นแสดงเกณฑ์คุณภาพอากาศ\n",
    "plt.axhline(y=35.4, color='orange', linestyle='--', alpha=0.7, \n",
    "            label='เริ่มไม่ดีต่อกลุ่มเสี่ยง (35.4)')\n",
    "plt.axhline(y=55.4, color='red', linestyle='--', alpha=0.7,\n",
    "            label='เริ่มไม่ดีต่อสุขภาพ (55.4)')\n",
    "\n",
    "plt.legend(title='ระดับคุณภาพอากาศ')\n",
    "plt.grid(axis='y', alpha=0.3)\n",
    "plt.tight_layout()\n",
    "\n",
    "# บันทึกกราฟ\n",
    "plt.savefig('pm25_forecast_7days.png')\n",
    "print(\"บันทึกกราฟการทำนายไปยัง 'pm25_forecast_7days.png'\")\n",
    "\n",
    "# แสดงกราฟ\n",
    "plt.show()\n"
   ]
  },
  {
   "cell_type": "code",
   "execution_count": null,
   "metadata": {},
   "outputs": [],
   "source": [
    "# ส่วนที่ 9: บันทึกผลการทำนาย\n",
    "# บันทึกผลการทำนายเป็นไฟล์ CSV\n",
    "forecast_result.to_csv('pm25_forecast_7days.csv', index=False)\n",
    "print(\"บันทึกผลการทำนายไปยัง 'pm25_forecast_7days.csv'\")\n",
    "\n",
    "print(\"\\nการทำนายเสร็จสมบูรณ์!\")"
   ]
  }
 ],
 "metadata": {
  "kernelspec": {
   "display_name": "Python 3",
   "language": "python",
   "name": "python3"
  },
  "language_info": {
   "codemirror_mode": {
    "name": "ipython",
    "version": 3
   },
   "file_extension": ".py",
   "mimetype": "text/x-python",
   "name": "python",
   "nbconvert_exporter": "python",
   "pygments_lexer": "ipython3",
   "version": "3.11.0"
  }
 },
 "nbformat": 4,
 "nbformat_minor": 2
}
